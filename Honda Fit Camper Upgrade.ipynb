{
 "cells": [
  {
   "cell_type": "markdown",
   "metadata": {},
   "source": [
    "# Honda Fit Econo Car Camper Project\n",
    "\n",
    "\n",
    "### 5 passenger transportation  >  > 2 passenger mini camper\n",
    "\n",
    "This notebook details my 2010 Honda Fit Sport trim, personal automobile and now housing unit. I plan to use this vehicle to explore the US. This notebook will include pictures of design and construction process, as well as visualizations of data related to the project. It is for fun, to learn about python and to create a portfolio piece.\n",
    "\n",
    "#### Already created resources\n",
    "[Google Sheet with Items/Layout](https://docs.google.com/spreadsheets/d/1AakB_KuwwG55wRmKisJuV0qMJfDBMC6Qhtn8vn6wCjw/edit?usp=sharing)\n",
    "\n",
    "Optional areas to explore\n",
    "- Cost of the Build\n",
    "- Honda fit milage/repair cost\n",
    "- Gear and the decision behind gear\n",
    "- Post to a forum-Ask if I am forgetting anything, packing unneccessary things or if there are good ways to add on to the build.\n",
    "\n",
    "#### Table of Contents\n",
    "- Background\n",
    "- Construction process\n",
    "    - Research\n",
    "        - Inspiration(Singletracksampler, honda fit youtube videos, random youtube vanlife content, rent cost)\n",
    "        - KISS principle, then iterate (Reference cutting width)\n",
    "    - Cardboard template\n",
    "    - Tools needed\n",
    "    - Wood used\n",
    "    - Timeframe\n",
    "- Current setup\n",
    "    - String around oh shit handles\n",
    "    - Caribeeners\n",
    "    - Fridge\n",
    "    - Recent additions\n",
    "        - Bed and Bedding\n",
    "        - cutout width for egress\n",
    "        - Solar Panel\n",
    "        - Battery\n",
    "\n",
    "\n"
   ]
  },
  {
   "cell_type": "markdown",
   "metadata": {},
   "source": [
    "blog post: 28 Jupyter Notebook tips, tricks and shortcuts\n",
    "This tells Jupyter to print the results for any variable or statement on it’s own line. So you can then execute a cell solely containing\n",
    "\n",
    "df1\n",
    "\n",
    "df2\n",
    "\n",
    "and it will \"print out the beautiful tables for both datasets\"."
   ]
  },
  {
   "cell_type": "markdown",
   "metadata": {},
   "source": [
    "# Settings and ... Jimi "
   ]
  },
  {
   "cell_type": "code",
   "execution_count": 13,
   "metadata": {
    "scrolled": true
   },
   "outputs": [
    {
     "data": {
      "text/html": [
       "<style>body {\n",
       "    margin: 0;\n",
       "    font-family: Helvetica;\n",
       "}\n",
       "table.dataframe {\n",
       "    border-collapse: collapse;\n",
       "    border: none;\n",
       "}\n",
       "table.dataframe tr {\n",
       "    border: none;\n",
       "}\n",
       "table.dataframe td, table.dataframe th {\n",
       "    margin: 0;\n",
       "    border: 1px solid white;\n",
       "    padding-left: 0.25em;\n",
       "    padding-right: 0.25em;\n",
       "}\n",
       "table.dataframe th:not(:empty) {\n",
       "    background-color: #fec;\n",
       "    text-align: left;\n",
       "    font-weight: normal;\n",
       "}\n",
       "table.dataframe tr:nth-child(2) th:empty {\n",
       "    border-left: none;\n",
       "    border-right: 1px dashed #888;\n",
       "}\n",
       "table.dataframe td {\n",
       "    border: 2px solid #ccf;\n",
       "    background-color: #f4f4ff;\n",
       "}\n",
       "h3 {\n",
       "    color: white;\n",
       "    background-color: black;\n",
       "    padding: 0.5em;\n",
       "}\n",
       "</style>"
      ],
      "text/plain": [
       "<IPython.core.display.HTML object>"
      ]
     },
     "execution_count": 13,
     "metadata": {},
     "output_type": "execute_result"
    },
    {
     "name": "stderr",
     "output_type": "stream",
     "text": [
      "D:\\Anaconda\\lib\\site-packages\\IPython\\core\\display.py:694: UserWarning: Consider using IPython.display.IFrame instead\n",
      "  warnings.warn(\"Consider using IPython.display.IFrame instead\")\n"
     ]
    },
    {
     "data": {
      "text/html": [
       "<iframe width=\"560\" height=\"315\" src=\"https://www.youtube.com/embed/LyqC6_TgLOo\" frameborder=\"0\" allow=\"accelerometer; autoplay; encrypted-media; gyroscope; picture-in-picture\" allowfullscreen></iframe>"
      ],
      "text/plain": [
       "<IPython.core.display.HTML object>"
      ]
     },
     "execution_count": 13,
     "metadata": {},
     "output_type": "execute_result"
    }
   ],
   "source": [
    "from IPython.core.interactiveshell import InteractiveShell\n",
    "InteractiveShell.ast_node_interactivity = \"all\"\n",
    "#This tells Jupyter to print the results for any variable or statement on it’s own line.\n",
    "\n",
    "#Brandon Rhodes CSS for df's\n",
    "from IPython.core.display import HTML\n",
    "css = open(r'C:\\Users\\andyk\\Documents\\Python\\FitCamper\\style-table.css').read() + open(r'C:\\Users\\andyk\\Documents\\Python\\FitCamper\\style-notebook.css').read()\n",
    "HTML('<style>{}</style>'.format(css))\n",
    "\n",
    "from IPython.display import HTML\n",
    "from IPython.display import Image\n",
    "HTML('<iframe width=\"560\" height=\"315\" src=\"https://www.youtube.com/embed/LyqC6_TgLOo\" frameborder=\"0\" allow=\"accelerometer; autoplay; encrypted-media; gyroscope; picture-in-picture\" allowfullscreen></iframe>')"
   ]
  },
  {
   "cell_type": "markdown",
   "metadata": {},
   "source": [
    "## Background\n",
    "\n",
    "Hi!\n",
    "Welcome to my Jupyter Notebook. It is a web document that contains live code to read, dmanipulate, analyze, and visualize data, contains markup text to format bold, text size,add inline media and more. I am using the pandas package in python.\n",
    "\n",
    "My name is Andrew. I am a recent college graduate. At 25 years old, I quit my  corporate job after 2 years to persue a different corporate job somewhere new. I live in Michigan in the suburbs of Detroit. I realized I wanted to explore more of the country after visiting a brother in Dallas and this project woul help achieve that goal.\n",
    "\n",
    "While I was still employed, as a way to deal with the doldrum of working, I dreamt of packing up my stuff and hitting the road. I saved money and began sketching the outlines of the project.\n",
    "\n",
    "As an unemployed person, I found myself with a dream and free time, and set to work. I have a background in working with software and computers, so working with my hands was a refreshingly novel challenge.\n",
    "\n",
    "During my buildout, I recieved another job offer and will be extending my time in the corporate world....for now. However, this project will continue to be refined. I plan on using the Fit Camper as a weekend rig & basecamp to go on extended adventures."
   ]
  },
  {
   "cell_type": "markdown",
   "metadata": {},
   "source": [
    "# Cost of the build\n",
    "\n",
    "### Total Cost ~1200\n",
    "Some of the more expensive items include:\n",
    "- Fridge 180\n",
    "- Battery 250\n",
    "- 60w Solar Setup 120"
   ]
  },
  {
   "cell_type": "markdown",
   "metadata": {},
   "source": [
    "# Here are some quick excel pivots\n",
    "#### Category\tCosts\n",
    "![Camper Costs](FitCamper\\CamperCosts.jpg)\n",
    "\n",
    "\n",
    "#### Breakdown of Costs\n",
    "![Camper Costs](FitCamper\\CamperCostsBreakdown.jpg)\n",
    "\n",
    "# Now try it in python"
   ]
  },
  {
   "cell_type": "code",
   "execution_count": 25,
   "metadata": {},
   "outputs": [
    {
     "data": {
      "text/html": [
       "<div>\n",
       "<style scoped>\n",
       "    .dataframe tbody tr th:only-of-type {\n",
       "        vertical-align: middle;\n",
       "    }\n",
       "\n",
       "    .dataframe tbody tr th {\n",
       "        vertical-align: top;\n",
       "    }\n",
       "\n",
       "    .dataframe thead th {\n",
       "        text-align: right;\n",
       "    }\n",
       "</style>\n",
       "<table border=\"1\" class=\"dataframe\">\n",
       "  <thead>\n",
       "    <tr style=\"text-align: right;\">\n",
       "      <th></th>\n",
       "      <th>Cost</th>\n",
       "    </tr>\n",
       "    <tr>\n",
       "      <th>Category</th>\n",
       "      <th></th>\n",
       "    </tr>\n",
       "  </thead>\n",
       "  <tbody>\n",
       "    <tr>\n",
       "      <td>Bedding</td>\n",
       "      <td>$170</td>\n",
       "    </tr>\n",
       "    <tr>\n",
       "      <td>Comforts</td>\n",
       "      <td>$81</td>\n",
       "    </tr>\n",
       "    <tr>\n",
       "      <td>Construction</td>\n",
       "      <td>$91</td>\n",
       "    </tr>\n",
       "    <tr>\n",
       "      <td>Kitchen</td>\n",
       "      <td>$349</td>\n",
       "    </tr>\n",
       "    <tr>\n",
       "      <td>Luxury</td>\n",
       "      <td>$370</td>\n",
       "    </tr>\n",
       "    <tr>\n",
       "      <td>Misc</td>\n",
       "      <td>$155</td>\n",
       "    </tr>\n",
       "  </tbody>\n",
       "</table>\n",
       "</div>"
      ],
      "text/plain": [
       "              Cost\n",
       "Category          \n",
       "Bedding       $170\n",
       "Comforts       $81\n",
       "Construction   $91\n",
       "Kitchen       $349\n",
       "Luxury        $370\n",
       "Misc          $155"
      ]
     },
     "execution_count": 25,
     "metadata": {},
     "output_type": "execute_result"
    }
   ],
   "source": [
    "import pandas as pd\n",
    "import numpy as np\n",
    "cost = pd.read_excel(\"FitCamper\\Costs.xlsx\",sheet_name = 0)\n",
    "cost = pd.read_excel(\"FitCamper\\Costs.xlsx\",sheet_name = 0)\n",
    "cost = cost.set_index('Item')\n",
    "\n",
    "cost[\"Category\"] = cost[\"Category\"].astype(\"category\")\n",
    "#cost['Cost'] = pd.to_numeric(cost['Cost'])\n",
    "cost['Cost'] = cost['Cost'].astype('float')\n",
    "pd.options.display.float_format = '${:,.0f}'.format\n",
    "#df[\"Status\"].cat.set_categories([\"Construction\",\"pending\",\"presented\",\"declined\"],inplace=True) #Not strictly necessary, but sets order\n",
    "#pd.pivot_table(cost,index=[\"Category\"],values=[\"Cost\"],aggfunc=np.sum)\n",
    "cost.groupby('Category').sum()"
   ]
  },
  {
   "cell_type": "markdown",
   "metadata": {},
   "source": [
    "### What are the top 10 most inexpensive items?"
   ]
  },
  {
   "cell_type": "code",
   "execution_count": 26,
   "metadata": {},
   "outputs": [
    {
     "data": {
      "text/html": [
       "<div>\n",
       "<style scoped>\n",
       "    .dataframe tbody tr th:only-of-type {\n",
       "        vertical-align: middle;\n",
       "    }\n",
       "\n",
       "    .dataframe tbody tr th {\n",
       "        vertical-align: top;\n",
       "    }\n",
       "\n",
       "    .dataframe thead th {\n",
       "        text-align: right;\n",
       "    }\n",
       "</style>\n",
       "<table border=\"1\" class=\"dataframe\">\n",
       "  <thead>\n",
       "    <tr style=\"text-align: right;\">\n",
       "      <th></th>\n",
       "      <th>Cost</th>\n",
       "      <th>Category</th>\n",
       "    </tr>\n",
       "    <tr>\n",
       "      <th>Item</th>\n",
       "      <th></th>\n",
       "      <th></th>\n",
       "    </tr>\n",
       "  </thead>\n",
       "  <tbody>\n",
       "    <tr>\n",
       "      <td>Wood 2x4</td>\n",
       "      <td>$2</td>\n",
       "      <td>Construction</td>\n",
       "    </tr>\n",
       "    <tr>\n",
       "      <td>Soap</td>\n",
       "      <td>$6</td>\n",
       "      <td>Kitchen</td>\n",
       "    </tr>\n",
       "    <tr>\n",
       "      <td>Carabiners</td>\n",
       "      <td>$7</td>\n",
       "      <td>Misc</td>\n",
       "    </tr>\n",
       "    <tr>\n",
       "      <td>Wood 48x16x3/4</td>\n",
       "      <td>$7</td>\n",
       "      <td>Construction</td>\n",
       "    </tr>\n",
       "    <tr>\n",
       "      <td>First Aid Kit</td>\n",
       "      <td>$7</td>\n",
       "      <td>Misc</td>\n",
       "    </tr>\n",
       "    <tr>\n",
       "      <td>Staples</td>\n",
       "      <td>$7</td>\n",
       "      <td>Construction</td>\n",
       "    </tr>\n",
       "    <tr>\n",
       "      <td>Cutting Board</td>\n",
       "      <td>$9</td>\n",
       "      <td>Kitchen</td>\n",
       "    </tr>\n",
       "    <tr>\n",
       "      <td>Spatula</td>\n",
       "      <td>$9</td>\n",
       "      <td>Kitchen</td>\n",
       "    </tr>\n",
       "    <tr>\n",
       "      <td>Jet boil stand</td>\n",
       "      <td>$10</td>\n",
       "      <td>Kitchen</td>\n",
       "    </tr>\n",
       "    <tr>\n",
       "      <td>Coleman frying pan</td>\n",
       "      <td>$10</td>\n",
       "      <td>Kitchen</td>\n",
       "    </tr>\n",
       "  </tbody>\n",
       "</table>\n",
       "</div>"
      ],
      "text/plain": [
       "                    Cost      Category\n",
       "Item                                  \n",
       "Wood 2x4              $2  Construction\n",
       "Soap                  $6       Kitchen\n",
       "Carabiners            $7          Misc\n",
       "Wood 48x16x3/4        $7  Construction\n",
       "First Aid Kit         $7          Misc\n",
       "Staples               $7  Construction\n",
       "Cutting Board         $9       Kitchen\n",
       "Spatula               $9       Kitchen\n",
       "Jet boil stand       $10       Kitchen\n",
       "Coleman frying pan   $10       Kitchen"
      ]
     },
     "execution_count": 26,
     "metadata": {},
     "output_type": "execute_result"
    }
   ],
   "source": [
    "citems = cost.iloc[0:shape[0],0:2]\n",
    "citems.sort_values('Cost').head(10)"
   ]
  },
  {
   "cell_type": "markdown",
   "metadata": {},
   "source": [
    "### What about the most expensive items by category?"
   ]
  },
  {
   "cell_type": "code",
   "execution_count": 27,
   "metadata": {},
   "outputs": [
    {
     "name": "stdout",
     "output_type": "stream",
     "text": [
      "Highest cost items in Bedding\n"
     ]
    },
    {
     "data": {
      "text/html": [
       "<div>\n",
       "<style scoped>\n",
       "    .dataframe tbody tr th:only-of-type {\n",
       "        vertical-align: middle;\n",
       "    }\n",
       "\n",
       "    .dataframe tbody tr th {\n",
       "        vertical-align: top;\n",
       "    }\n",
       "\n",
       "    .dataframe thead th {\n",
       "        text-align: right;\n",
       "    }\n",
       "</style>\n",
       "<table border=\"1\" class=\"dataframe\">\n",
       "  <thead>\n",
       "    <tr style=\"text-align: right;\">\n",
       "      <th></th>\n",
       "      <th>Item</th>\n",
       "      <th>Cost</th>\n",
       "    </tr>\n",
       "  </thead>\n",
       "  <tbody>\n",
       "    <tr>\n",
       "      <td>0</td>\n",
       "      <td>Mattress</td>\n",
       "      <td>$105</td>\n",
       "    </tr>\n",
       "    <tr>\n",
       "      <td>1</td>\n",
       "      <td>Mattress cover</td>\n",
       "      <td>$35</td>\n",
       "    </tr>\n",
       "  </tbody>\n",
       "</table>\n",
       "</div>"
      ],
      "text/plain": [
       "             Item  Cost\n",
       "0        Mattress  $105\n",
       "1  Mattress cover   $35"
      ]
     },
     "execution_count": 27,
     "metadata": {},
     "output_type": "execute_result"
    },
    {
     "name": "stdout",
     "output_type": "stream",
     "text": [
      "Highest cost items in Comforts\n"
     ]
    },
    {
     "data": {
      "text/html": [
       "<div>\n",
       "<style scoped>\n",
       "    .dataframe tbody tr th:only-of-type {\n",
       "        vertical-align: middle;\n",
       "    }\n",
       "\n",
       "    .dataframe tbody tr th {\n",
       "        vertical-align: top;\n",
       "    }\n",
       "\n",
       "    .dataframe thead th {\n",
       "        text-align: right;\n",
       "    }\n",
       "</style>\n",
       "<table border=\"1\" class=\"dataframe\">\n",
       "  <thead>\n",
       "    <tr style=\"text-align: right;\">\n",
       "      <th></th>\n",
       "      <th>Item</th>\n",
       "      <th>Cost</th>\n",
       "    </tr>\n",
       "  </thead>\n",
       "  <tbody>\n",
       "    <tr>\n",
       "      <td>2</td>\n",
       "      <td>Reflectix</td>\n",
       "      <td>$24</td>\n",
       "    </tr>\n",
       "    <tr>\n",
       "      <td>3</td>\n",
       "      <td>Velcro</td>\n",
       "      <td>$23</td>\n",
       "    </tr>\n",
       "  </tbody>\n",
       "</table>\n",
       "</div>"
      ],
      "text/plain": [
       "        Item  Cost\n",
       "2  Reflectix   $24\n",
       "3     Velcro   $23"
      ]
     },
     "execution_count": 27,
     "metadata": {},
     "output_type": "execute_result"
    },
    {
     "name": "stdout",
     "output_type": "stream",
     "text": [
      "Highest cost items in Construction\n"
     ]
    },
    {
     "data": {
      "text/html": [
       "<div>\n",
       "<style scoped>\n",
       "    .dataframe tbody tr th:only-of-type {\n",
       "        vertical-align: middle;\n",
       "    }\n",
       "\n",
       "    .dataframe tbody tr th {\n",
       "        vertical-align: top;\n",
       "    }\n",
       "\n",
       "    .dataframe thead th {\n",
       "        text-align: right;\n",
       "    }\n",
       "</style>\n",
       "<table border=\"1\" class=\"dataframe\">\n",
       "  <thead>\n",
       "    <tr style=\"text-align: right;\">\n",
       "      <th></th>\n",
       "      <th>Item</th>\n",
       "      <th>Cost</th>\n",
       "    </tr>\n",
       "  </thead>\n",
       "  <tbody>\n",
       "    <tr>\n",
       "      <td>4</td>\n",
       "      <td>Pipe Supports</td>\n",
       "      <td>$25</td>\n",
       "    </tr>\n",
       "    <tr>\n",
       "      <td>5</td>\n",
       "      <td>Rug</td>\n",
       "      <td>$20</td>\n",
       "    </tr>\n",
       "  </tbody>\n",
       "</table>\n",
       "</div>"
      ],
      "text/plain": [
       "            Item  Cost\n",
       "4  Pipe Supports   $25\n",
       "5            Rug   $20"
      ]
     },
     "execution_count": 27,
     "metadata": {},
     "output_type": "execute_result"
    },
    {
     "name": "stdout",
     "output_type": "stream",
     "text": [
      "Highest cost items in Kitchen\n"
     ]
    },
    {
     "data": {
      "text/html": [
       "<div>\n",
       "<style scoped>\n",
       "    .dataframe tbody tr th:only-of-type {\n",
       "        vertical-align: middle;\n",
       "    }\n",
       "\n",
       "    .dataframe tbody tr th {\n",
       "        vertical-align: top;\n",
       "    }\n",
       "\n",
       "    .dataframe thead th {\n",
       "        text-align: right;\n",
       "    }\n",
       "</style>\n",
       "<table border=\"1\" class=\"dataframe\">\n",
       "  <thead>\n",
       "    <tr style=\"text-align: right;\">\n",
       "      <th></th>\n",
       "      <th>Item</th>\n",
       "      <th>Cost</th>\n",
       "    </tr>\n",
       "  </thead>\n",
       "  <tbody>\n",
       "    <tr>\n",
       "      <td>6</td>\n",
       "      <td>Fridge</td>\n",
       "      <td>$179</td>\n",
       "    </tr>\n",
       "    <tr>\n",
       "      <td>7</td>\n",
       "      <td>Table</td>\n",
       "      <td>$37</td>\n",
       "    </tr>\n",
       "  </tbody>\n",
       "</table>\n",
       "</div>"
      ],
      "text/plain": [
       "     Item  Cost\n",
       "6  Fridge  $179\n",
       "7   Table   $37"
      ]
     },
     "execution_count": 27,
     "metadata": {},
     "output_type": "execute_result"
    },
    {
     "name": "stdout",
     "output_type": "stream",
     "text": [
      "Highest cost items in Luxury\n"
     ]
    },
    {
     "data": {
      "text/html": [
       "<div>\n",
       "<style scoped>\n",
       "    .dataframe tbody tr th:only-of-type {\n",
       "        vertical-align: middle;\n",
       "    }\n",
       "\n",
       "    .dataframe tbody tr th {\n",
       "        vertical-align: top;\n",
       "    }\n",
       "\n",
       "    .dataframe thead th {\n",
       "        text-align: right;\n",
       "    }\n",
       "</style>\n",
       "<table border=\"1\" class=\"dataframe\">\n",
       "  <thead>\n",
       "    <tr style=\"text-align: right;\">\n",
       "      <th></th>\n",
       "      <th>Item</th>\n",
       "      <th>Cost</th>\n",
       "    </tr>\n",
       "  </thead>\n",
       "  <tbody>\n",
       "    <tr>\n",
       "      <td>8</td>\n",
       "      <td>Battery</td>\n",
       "      <td>$250</td>\n",
       "    </tr>\n",
       "    <tr>\n",
       "      <td>9</td>\n",
       "      <td>Solar</td>\n",
       "      <td>$120</td>\n",
       "    </tr>\n",
       "  </tbody>\n",
       "</table>\n",
       "</div>"
      ],
      "text/plain": [
       "      Item  Cost\n",
       "8  Battery  $250\n",
       "9    Solar  $120"
      ]
     },
     "execution_count": 27,
     "metadata": {},
     "output_type": "execute_result"
    },
    {
     "name": "stdout",
     "output_type": "stream",
     "text": [
      "Highest cost items in Misc\n"
     ]
    },
    {
     "data": {
      "text/html": [
       "<div>\n",
       "<style scoped>\n",
       "    .dataframe tbody tr th:only-of-type {\n",
       "        vertical-align: middle;\n",
       "    }\n",
       "\n",
       "    .dataframe tbody tr th {\n",
       "        vertical-align: top;\n",
       "    }\n",
       "\n",
       "    .dataframe thead th {\n",
       "        text-align: right;\n",
       "    }\n",
       "</style>\n",
       "<table border=\"1\" class=\"dataframe\">\n",
       "  <thead>\n",
       "    <tr style=\"text-align: right;\">\n",
       "      <th></th>\n",
       "      <th>Item</th>\n",
       "      <th>Cost</th>\n",
       "    </tr>\n",
       "  </thead>\n",
       "  <tbody>\n",
       "    <tr>\n",
       "      <td>10</td>\n",
       "      <td>Jet boil ripoff</td>\n",
       "      <td>$47</td>\n",
       "    </tr>\n",
       "    <tr>\n",
       "      <td>11</td>\n",
       "      <td>Mini table</td>\n",
       "      <td>$45</td>\n",
       "    </tr>\n",
       "  </tbody>\n",
       "</table>\n",
       "</div>"
      ],
      "text/plain": [
       "               Item  Cost\n",
       "10  Jet boil ripoff   $47\n",
       "11       Mini table   $45"
      ]
     },
     "execution_count": 27,
     "metadata": {},
     "output_type": "execute_result"
    }
   ],
   "source": [
    "# I use the groupby function to give me the 2 largest items by cost for each of the categories and save it to the variable, l\n",
    "h = citems.groupby('Category')['Cost'].nlargest(2).reset_index()\n",
    "\n",
    "#The groupby function allows us to easily grab all the categories, and add them to a dictionary\n",
    "dfs = dict(tuple(h.groupby('Category')))\n",
    "\n",
    "#I use a for loop to go through the categories, the colon (:) and following lines indentation indicates you are using the loop\n",
    "for df in dfs:\n",
    "    print(\"Highest cost items in \" + df)\n",
    "    dfs[df].iloc[:,1:3] #Grab just the name of the item and cost"
   ]
  },
  {
   "cell_type": "markdown",
   "metadata": {},
   "source": [
    "### Lowest cost items by Category?"
   ]
  },
  {
   "cell_type": "code",
   "execution_count": 28,
   "metadata": {},
   "outputs": [
    {
     "name": "stdout",
     "output_type": "stream",
     "text": [
      "Lowest cost items in Bedding\n"
     ]
    },
    {
     "data": {
      "text/html": [
       "<div>\n",
       "<style scoped>\n",
       "    .dataframe tbody tr th:only-of-type {\n",
       "        vertical-align: middle;\n",
       "    }\n",
       "\n",
       "    .dataframe tbody tr th {\n",
       "        vertical-align: top;\n",
       "    }\n",
       "\n",
       "    .dataframe thead th {\n",
       "        text-align: right;\n",
       "    }\n",
       "</style>\n",
       "<table border=\"1\" class=\"dataframe\">\n",
       "  <thead>\n",
       "    <tr style=\"text-align: right;\">\n",
       "      <th></th>\n",
       "      <th>Item</th>\n",
       "      <th>Cost</th>\n",
       "    </tr>\n",
       "  </thead>\n",
       "  <tbody>\n",
       "    <tr>\n",
       "      <td>0</td>\n",
       "      <td>Mattress</td>\n",
       "      <td>$105</td>\n",
       "    </tr>\n",
       "    <tr>\n",
       "      <td>1</td>\n",
       "      <td>Mattress cover</td>\n",
       "      <td>$35</td>\n",
       "    </tr>\n",
       "  </tbody>\n",
       "</table>\n",
       "</div>"
      ],
      "text/plain": [
       "             Item  Cost\n",
       "0        Mattress  $105\n",
       "1  Mattress cover   $35"
      ]
     },
     "execution_count": 28,
     "metadata": {},
     "output_type": "execute_result"
    },
    {
     "name": "stdout",
     "output_type": "stream",
     "text": [
      "Lowest cost items in Comforts\n"
     ]
    },
    {
     "data": {
      "text/html": [
       "<div>\n",
       "<style scoped>\n",
       "    .dataframe tbody tr th:only-of-type {\n",
       "        vertical-align: middle;\n",
       "    }\n",
       "\n",
       "    .dataframe tbody tr th {\n",
       "        vertical-align: top;\n",
       "    }\n",
       "\n",
       "    .dataframe thead th {\n",
       "        text-align: right;\n",
       "    }\n",
       "</style>\n",
       "<table border=\"1\" class=\"dataframe\">\n",
       "  <thead>\n",
       "    <tr style=\"text-align: right;\">\n",
       "      <th></th>\n",
       "      <th>Item</th>\n",
       "      <th>Cost</th>\n",
       "    </tr>\n",
       "  </thead>\n",
       "  <tbody>\n",
       "    <tr>\n",
       "      <td>2</td>\n",
       "      <td>Reflectix</td>\n",
       "      <td>$24</td>\n",
       "    </tr>\n",
       "    <tr>\n",
       "      <td>3</td>\n",
       "      <td>Velcro</td>\n",
       "      <td>$23</td>\n",
       "    </tr>\n",
       "  </tbody>\n",
       "</table>\n",
       "</div>"
      ],
      "text/plain": [
       "        Item  Cost\n",
       "2  Reflectix   $24\n",
       "3     Velcro   $23"
      ]
     },
     "execution_count": 28,
     "metadata": {},
     "output_type": "execute_result"
    },
    {
     "name": "stdout",
     "output_type": "stream",
     "text": [
      "Lowest cost items in Construction\n"
     ]
    },
    {
     "data": {
      "text/html": [
       "<div>\n",
       "<style scoped>\n",
       "    .dataframe tbody tr th:only-of-type {\n",
       "        vertical-align: middle;\n",
       "    }\n",
       "\n",
       "    .dataframe tbody tr th {\n",
       "        vertical-align: top;\n",
       "    }\n",
       "\n",
       "    .dataframe thead th {\n",
       "        text-align: right;\n",
       "    }\n",
       "</style>\n",
       "<table border=\"1\" class=\"dataframe\">\n",
       "  <thead>\n",
       "    <tr style=\"text-align: right;\">\n",
       "      <th></th>\n",
       "      <th>Item</th>\n",
       "      <th>Cost</th>\n",
       "    </tr>\n",
       "  </thead>\n",
       "  <tbody>\n",
       "    <tr>\n",
       "      <td>4</td>\n",
       "      <td>Pipe Supports</td>\n",
       "      <td>$25</td>\n",
       "    </tr>\n",
       "    <tr>\n",
       "      <td>5</td>\n",
       "      <td>Rug</td>\n",
       "      <td>$20</td>\n",
       "    </tr>\n",
       "  </tbody>\n",
       "</table>\n",
       "</div>"
      ],
      "text/plain": [
       "            Item  Cost\n",
       "4  Pipe Supports   $25\n",
       "5            Rug   $20"
      ]
     },
     "execution_count": 28,
     "metadata": {},
     "output_type": "execute_result"
    },
    {
     "name": "stdout",
     "output_type": "stream",
     "text": [
      "Lowest cost items in Kitchen\n"
     ]
    },
    {
     "data": {
      "text/html": [
       "<div>\n",
       "<style scoped>\n",
       "    .dataframe tbody tr th:only-of-type {\n",
       "        vertical-align: middle;\n",
       "    }\n",
       "\n",
       "    .dataframe tbody tr th {\n",
       "        vertical-align: top;\n",
       "    }\n",
       "\n",
       "    .dataframe thead th {\n",
       "        text-align: right;\n",
       "    }\n",
       "</style>\n",
       "<table border=\"1\" class=\"dataframe\">\n",
       "  <thead>\n",
       "    <tr style=\"text-align: right;\">\n",
       "      <th></th>\n",
       "      <th>Item</th>\n",
       "      <th>Cost</th>\n",
       "    </tr>\n",
       "  </thead>\n",
       "  <tbody>\n",
       "    <tr>\n",
       "      <td>6</td>\n",
       "      <td>Fridge</td>\n",
       "      <td>$179</td>\n",
       "    </tr>\n",
       "    <tr>\n",
       "      <td>7</td>\n",
       "      <td>Table</td>\n",
       "      <td>$37</td>\n",
       "    </tr>\n",
       "  </tbody>\n",
       "</table>\n",
       "</div>"
      ],
      "text/plain": [
       "     Item  Cost\n",
       "6  Fridge  $179\n",
       "7   Table   $37"
      ]
     },
     "execution_count": 28,
     "metadata": {},
     "output_type": "execute_result"
    },
    {
     "name": "stdout",
     "output_type": "stream",
     "text": [
      "Lowest cost items in Luxury\n"
     ]
    },
    {
     "data": {
      "text/html": [
       "<div>\n",
       "<style scoped>\n",
       "    .dataframe tbody tr th:only-of-type {\n",
       "        vertical-align: middle;\n",
       "    }\n",
       "\n",
       "    .dataframe tbody tr th {\n",
       "        vertical-align: top;\n",
       "    }\n",
       "\n",
       "    .dataframe thead th {\n",
       "        text-align: right;\n",
       "    }\n",
       "</style>\n",
       "<table border=\"1\" class=\"dataframe\">\n",
       "  <thead>\n",
       "    <tr style=\"text-align: right;\">\n",
       "      <th></th>\n",
       "      <th>Item</th>\n",
       "      <th>Cost</th>\n",
       "    </tr>\n",
       "  </thead>\n",
       "  <tbody>\n",
       "    <tr>\n",
       "      <td>8</td>\n",
       "      <td>Battery</td>\n",
       "      <td>$250</td>\n",
       "    </tr>\n",
       "    <tr>\n",
       "      <td>9</td>\n",
       "      <td>Solar</td>\n",
       "      <td>$120</td>\n",
       "    </tr>\n",
       "  </tbody>\n",
       "</table>\n",
       "</div>"
      ],
      "text/plain": [
       "      Item  Cost\n",
       "8  Battery  $250\n",
       "9    Solar  $120"
      ]
     },
     "execution_count": 28,
     "metadata": {},
     "output_type": "execute_result"
    },
    {
     "name": "stdout",
     "output_type": "stream",
     "text": [
      "Lowest cost items in Misc\n"
     ]
    },
    {
     "data": {
      "text/html": [
       "<div>\n",
       "<style scoped>\n",
       "    .dataframe tbody tr th:only-of-type {\n",
       "        vertical-align: middle;\n",
       "    }\n",
       "\n",
       "    .dataframe tbody tr th {\n",
       "        vertical-align: top;\n",
       "    }\n",
       "\n",
       "    .dataframe thead th {\n",
       "        text-align: right;\n",
       "    }\n",
       "</style>\n",
       "<table border=\"1\" class=\"dataframe\">\n",
       "  <thead>\n",
       "    <tr style=\"text-align: right;\">\n",
       "      <th></th>\n",
       "      <th>Item</th>\n",
       "      <th>Cost</th>\n",
       "    </tr>\n",
       "  </thead>\n",
       "  <tbody>\n",
       "    <tr>\n",
       "      <td>10</td>\n",
       "      <td>Jet boil ripoff</td>\n",
       "      <td>$47</td>\n",
       "    </tr>\n",
       "    <tr>\n",
       "      <td>11</td>\n",
       "      <td>Mini table</td>\n",
       "      <td>$45</td>\n",
       "    </tr>\n",
       "  </tbody>\n",
       "</table>\n",
       "</div>"
      ],
      "text/plain": [
       "               Item  Cost\n",
       "10  Jet boil ripoff   $47\n",
       "11       Mini table   $45"
      ]
     },
     "execution_count": 28,
     "metadata": {},
     "output_type": "execute_result"
    }
   ],
   "source": [
    "l = citems.groupby('Category')['Cost'].nsmallest(2).reset_index()\n",
    "\n",
    "#The groupby function allows us to easily grab all the categories, and add them to a dictionary\n",
    "dfs2 = dict(tuple(l.groupby('Category')))\n",
    "\n",
    "#I use a for loop to go through the categories, the colon (:) and following lines indentation indicates you are using the loop\n",
    "for df in dfs:\n",
    "    print(\"Lowest cost items in \" + df)\n",
    "    dfs[df].iloc[:,1:3] #Grab just the name of the item and cost"
   ]
  },
  {
   "cell_type": "markdown",
   "metadata": {},
   "source": [
    "# Seaborn Distribution & Swarm Plots"
   ]
  },
  {
   "cell_type": "code",
   "execution_count": 29,
   "metadata": {},
   "outputs": [
    {
     "data": {
      "image/png": "[encoded data removed]",
      "text/plain": [
       "<Figure size 432x288 with 1 Axes>"
      ]
     },
     "metadata": {},
     "output_type": "display_data"
    }
   ],
   "source": [
    "import seaborn as sns\n",
    "sns.set(style=\"whitegrid\")\n",
    "ax = sns.boxplot(x=cost[\"Cost\"])"
   ]
  },
  {
   "cell_type": "code",
   "execution_count": 30,
   "metadata": {},
   "outputs": [
    {
     "data": {
      "image/png": "[encoded data removed]",
      "text/plain": [
       "<Figure size 432x288 with 1 Axes>"
      ]
     },
     "metadata": {},
     "output_type": "display_data"
    }
   ],
   "source": [
    "ax = sns.boxplot(x=\"Category\", y=\"Cost\", data=cost, width = .8)\n",
    "ax = sns.swarmplot(x=\"Category\", y=\"Cost\", data=cost, color=\".25\")"
   ]
  },
  {
   "cell_type": "code",
   "execution_count": 31,
   "metadata": {
    "scrolled": false
   },
   "outputs": [
    {
     "data": {
      "text/plain": [
       "[(2, 115)]"
      ]
     },
     "execution_count": 31,
     "metadata": {},
     "output_type": "execute_result"
    },
    {
     "data": {
      "image/png": "[encoded data removed]",
      "text/plain": [
       "<Figure size 432x288 with 1 Axes>"
      ]
     },
     "metadata": {},
     "output_type": "display_data"
    }
   ],
   "source": [
    "ax = sns.boxplot(x=\"Category\", y=\"Cost\", data=cost, width = .7)\n",
    "ax = sns.swarmplot(x=\"Category\", y=\"Cost\", data=cost, color=\".25\")\n",
    "ax.set(ylim=(2, 115))"
   ]
  },
  {
   "cell_type": "code",
   "execution_count": 32,
   "metadata": {},
   "outputs": [
    {
     "data": {
      "text/plain": [
       "[(115, 260)]"
      ]
     },
     "execution_count": 32,
     "metadata": {},
     "output_type": "execute_result"
    },
    {
     "data": {
      "image/png": "[encoded data removed]",
      "text/plain": [
       "<Figure size 432x288 with 1 Axes>"
      ]
     },
     "metadata": {},
     "output_type": "display_data"
    }
   ],
   "source": [
    "ax = sns.boxplot(x=\"Category\", y=\"Cost\", data=cost, width = 2)\n",
    "ax = sns.swarmplot(x=\"Category\", y=\"Cost\", data=cost, color=\".25\")\n",
    "ax.set(ylim=(115, 260))"
   ]
  },
  {
   "cell_type": "markdown",
   "metadata": {},
   "source": [
    "# Messing around with Pandas"
   ]
  },
  {
   "cell_type": "markdown",
   "metadata": {},
   "source": [
    "### Checking the dimensions of the dataset"
   ]
  },
  {
   "cell_type": "code",
   "execution_count": 33,
   "metadata": {
    "scrolled": true
   },
   "outputs": [
    {
     "name": "stdout",
     "output_type": "stream",
     "text": [
      "Size = 99\n",
      "Shape =(33, 3)\n",
      "Shape[0] x Shape[1] = 99\n",
      "The output is telling us the results of the size and shape functions\n"
     ]
    }
   ],
   "source": [
    "c = cost\n",
    "size = c.size\n",
    "shape = c.shape\n",
    "# printing size and shape\n",
    "#https://www.geeksforgeeks.org/python-pandas-df-size-df-shape-and-df-ndim/\n",
    "print(\"Size = {}\\nShape ={}\\nShape[0] x Shape[1] = {}\". \n",
    "format(size, shape, shape[0]*shape[1]))\n",
    "      #The \\n is a line break in the output\n",
    "        #{} input a variable\n",
    "print(\"The output is telling us the results of the size and shape functions\")"
   ]
  },
  {
   "cell_type": "markdown",
   "metadata": {},
   "source": [
    "### Slicing a dataframe"
   ]
  },
  {
   "cell_type": "code",
   "execution_count": 34,
   "metadata": {},
   "outputs": [
    {
     "data": {
      "text/html": [
       "<div>\n",
       "<style scoped>\n",
       "    .dataframe tbody tr th:only-of-type {\n",
       "        vertical-align: middle;\n",
       "    }\n",
       "\n",
       "    .dataframe tbody tr th {\n",
       "        vertical-align: top;\n",
       "    }\n",
       "\n",
       "    .dataframe thead th {\n",
       "        text-align: right;\n",
       "    }\n",
       "</style>\n",
       "<table border=\"1\" class=\"dataframe\">\n",
       "  <thead>\n",
       "    <tr style=\"text-align: right;\">\n",
       "      <th></th>\n",
       "      <th>Cost</th>\n",
       "    </tr>\n",
       "    <tr>\n",
       "      <th>Item</th>\n",
       "      <th></th>\n",
       "    </tr>\n",
       "  </thead>\n",
       "  <tbody>\n",
       "    <tr>\n",
       "      <td>Mattress</td>\n",
       "      <td>$105</td>\n",
       "    </tr>\n",
       "  </tbody>\n",
       "</table>\n",
       "</div>"
      ],
      "text/plain": [
       "          Cost\n",
       "Item          \n",
       "Mattress  $105"
      ]
     },
     "execution_count": 34,
     "metadata": {},
     "output_type": "execute_result"
    },
    {
     "data": {
      "text/html": [
       "<div>\n",
       "<style scoped>\n",
       "    .dataframe tbody tr th:only-of-type {\n",
       "        vertical-align: middle;\n",
       "    }\n",
       "\n",
       "    .dataframe tbody tr th {\n",
       "        vertical-align: top;\n",
       "    }\n",
       "\n",
       "    .dataframe thead th {\n",
       "        text-align: right;\n",
       "    }\n",
       "</style>\n",
       "<table border=\"1\" class=\"dataframe\">\n",
       "  <thead>\n",
       "    <tr style=\"text-align: right;\">\n",
       "      <th></th>\n",
       "      <th>Cost</th>\n",
       "      <th>Category</th>\n",
       "      <th>Unnamed: 3</th>\n",
       "    </tr>\n",
       "    <tr>\n",
       "      <th>Item</th>\n",
       "      <th></th>\n",
       "      <th></th>\n",
       "      <th></th>\n",
       "    </tr>\n",
       "  </thead>\n",
       "  <tbody>\n",
       "    <tr>\n",
       "      <td>Mattress</td>\n",
       "      <td>$105</td>\n",
       "      <td>Bedding</td>\n",
       "      <td>NaN</td>\n",
       "    </tr>\n",
       "  </tbody>\n",
       "</table>\n",
       "</div>"
      ],
      "text/plain": [
       "          Cost Category Unnamed: 3\n",
       "Item                              \n",
       "Mattress  $105  Bedding        NaN"
      ]
     },
     "execution_count": 34,
     "metadata": {},
     "output_type": "execute_result"
    }
   ],
   "source": [
    "#cost.iloc[0:shape[0],0:shape[1]-1]\n",
    "#.iloc uses an index system to grab a slice of a df\n",
    "#ie, the first item and the first row \n",
    "cost.iloc[0:1,0:1]\n",
    "#or the first item and all rows\n",
    "cost.iloc[0:1,0:shape[1]]"
   ]
  },
  {
   "cell_type": "markdown",
   "metadata": {},
   "source": [
    "# Construction Process\n",
    "### Research\n",
    "Research began as a foray into the van life part of youtube. It is an interesting and seemingly limitless void, as van life has increased in popularity as the price of housing staying high in many parts of the world.\n",
    "\n",
    "I saw some videos I knew I did not want to emulate.\n",
    "\n",
    "[Like this one](https://www.youtube.com/watch?v=OsW2AiVKcgw)\n",
    "<div>\n",
    "<img src=\"FitCamper\\badexample.png\" width=\"400\"/>\n",
    "</div>\n",
    "\n",
    "\n",
    "##### However I found a bunch that were incredibly inspiring!\n",
    "[Like this one](https://www.youtube.com/watch?v=Nr27swF2MBA)\n",
    "<div>\n",
    "<img src=\"FitCamper\\coolvid.png\" width=\"400\"/>\n",
    "</div>\n",
    "\n",
    "##### Their design used a U design in the rear, and a central spine that connected to the front cross piece\n",
    "![SegmentLocal](FitCamper\\cooldesign.gif \"inspiring design\")\n",
    "\n",
    "\n",
    "[Or this one](https://youtu.be/8F5LkJoeMLg)\n",
    "\n",
    "[This one too!](https://www.youtube.com/watch?v=lA8sNcdKEBs)\n",
    "\n",
    "[Ok One more...Meet Yohei](https://www.youtube.com/watch?v=KaLJFvyyMJo)\n",
    "\n",
    "This is Yohei\n",
    "\n",
    "<div>\n",
    "<img src=\"FitCamper\\yohei.png\" width=\"400\"/>\n",
    "</div>\n",
    "\n",
    "\n",
    "Yohei's kitchen inspired me to ball out way more on my cooking apperatus.\n",
    "![SegmentLocal](FitCamper\\yohei.gif \"yohei\")\n",
    "\n",
    "\n",
    "\n",
    "### My Design\n",
    "\n",
    "While watching these videos and doing various research on van living I began to formulate my plan for the Honda.\n",
    "I knew I wanted to have a comfortable bed. That would not be an area of compromise. As such, I needed a large flat surface to sprawl on. A double bed was not going to do it.\n",
    "\n",
    "I ended up following the first videos design closely, also using their cardboard prototyping step to ensure my design made sense. \n",
    "\n",
    "I chose to remove the rear seats to maximize cargo room. Support weight via a central spine notched to intersect the U that sits in the rear of the car.\n",
    "#### Pic\n",
    "\n",
    "I figured minimizing the structure woudld limit weight, and decided to use pipe/wood supports for the front left and right unsupported corners.\n",
    "Here are the supports I put together\n",
    "2x4's\n",
    "##### Pic\n",
    "Pipe Supports\n",
    "##### Pic\n",
    "I tried to use the KISS principle, iterating often. As an example, I cut the width of the sleeping platform down in the front.\n",
    "##### Pics\n",
    "\n",
    "This allows you to almost stand inside of the cabin, whereas before this was impossible which led to a claustrophobic environment. I believe I will be able to sit and use the front of the mattress platform as a desk.\n",
    "\n",
    "\n",
    "The process involved a good amount of trial and error and iterative cutting. i.e. measure 20 times and cut 38\n",
    "\n",
    "\n",
    "But I got it done.\n",
    "\n",
    "## Insert Pictures Here"
   ]
  },
  {
   "cell_type": "markdown",
   "metadata": {},
   "source": [
    "## Add a Mattress\n",
    "\n",
    "I got a 4 inch memory foam topper to use as my mattress\n",
    "it was $105 shipped.\n",
    "\n",
    "After getting letting the mattress expand in the car, it became clear that I was going to have to cut a good chunk of foam for the mattress to fit correctly. I cut sections to accomodate the rear  wheel wells, and eventually cut the front left side.\n",
    "\n"
   ]
  },
  {
   "cell_type": "code",
   "execution_count": null,
   "metadata": {
    "scrolled": false
   },
   "outputs": [],
   "source": []
  },
  {
   "cell_type": "code",
   "execution_count": null,
   "metadata": {
    "scrolled": false
   },
   "outputs": [],
   "source": []
  },
  {
   "cell_type": "code",
   "execution_count": null,
   "metadata": {},
   "outputs": [],
   "source": []
  }
 ],
 "metadata": {
  "kernelspec": {
   "display_name": "Python 3",
   "language": "python",
   "name": "python3"
  },
  "language_info": {
   "codemirror_mode": {
    "name": "ipython",
    "version": 3
   },
   "file_extension": ".py",
   "mimetype": "text/x-python",
   "name": "python",
   "nbconvert_exporter": "python",
   "pygments_lexer": "ipython3",
   "version": "3.7.4"
  }
 },
 "nbformat": 4,
 "nbformat_minor": 2
}
